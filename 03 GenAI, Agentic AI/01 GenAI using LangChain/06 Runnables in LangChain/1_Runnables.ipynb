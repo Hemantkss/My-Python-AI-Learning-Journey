{
 "cells": [
  {
   "cell_type": "code",
   "execution_count": 2,
   "id": "e503457e-df46-40f8-992f-f4cf34be8ad9",
   "metadata": {},
   "outputs": [],
   "source": [
    "import random\n",
    "\n",
    "class DemoLLM:\n",
    "    def __init__ (self):\n",
    "        print(\"LLM Created\")\n",
    "\n",
    "    def predict(self, prompt):\n",
    "\n",
    "        response_list = [\n",
    "            \"Delhi is Capital of India\",\n",
    "            \"IPL is Popular League\",\n",
    "            \"My name is Hemant\"\n",
    "        ]\n",
    "\n",
    "        return {\"Response\": random.choice(response_list)}"
   ]
  },
  {
   "cell_type": "code",
   "execution_count": null,
   "id": "eb2be442-3e61-4d1a-a157-6b9537084b51",
   "metadata": {},
   "outputs": [],
   "source": []
  },
  {
   "cell_type": "code",
   "execution_count": 10,
   "id": "51aed65b-d302-4011-a325-983ce8685910",
   "metadata": {},
   "outputs": [],
   "source": [
    "class DemoPromptTemplate:\n",
    "\n",
    "    def __init__(self, template, input_variables): \n",
    "        self.template = template\n",
    "        self.input_variables = input_variables\n",
    "\n",
    "    def format(self, input_dict): \n",
    "        return self.template.format(**input_dict)"
   ]
  },
  {
   "cell_type": "code",
   "execution_count": null,
   "id": "12db2a1b-0d4d-4436-b9ed-ba18e7884856",
   "metadata": {},
   "outputs": [],
   "source": []
  },
  {
   "cell_type": "code",
   "execution_count": 13,
   "id": "6b69ebd3-2b36-4f54-abed-2db9d60b1dfe",
   "metadata": {},
   "outputs": [],
   "source": [
    "template = DemoPromptTemplate(\n",
    "    template=\"Write a {length} poem about {topic}\",\n",
    "    input_variables=['length' ,'topic']\n",
    ")"
   ]
  },
  {
   "cell_type": "code",
   "execution_count": 15,
   "id": "9fb89482-9bd7-4407-87ac-f5ffc0c70583",
   "metadata": {},
   "outputs": [],
   "source": [
    "prompt = template.format({'length':'short','topic':'india'})"
   ]
  },
  {
   "cell_type": "code",
   "execution_count": null,
   "id": "55aa5a22-f1e3-4fcc-a0ce-9d62bb0df2c4",
   "metadata": {},
   "outputs": [],
   "source": []
  },
  {
   "cell_type": "code",
   "execution_count": 16,
   "id": "97f81670-38da-4915-aa8e-82d3684aa7da",
   "metadata": {},
   "outputs": [
    {
     "name": "stdout",
     "output_type": "stream",
     "text": [
      "LLM Created\n"
     ]
    }
   ],
   "source": [
    "llm = DemoLLM()"
   ]
  },
  {
   "cell_type": "code",
   "execution_count": null,
   "id": "2913ec86-2110-447d-9b3d-894632f6e67a",
   "metadata": {},
   "outputs": [],
   "source": []
  },
  {
   "cell_type": "code",
   "execution_count": 17,
   "id": "d91223a0-862b-45e5-8c0e-8bb16dacbd7e",
   "metadata": {},
   "outputs": [
    {
     "data": {
      "text/plain": [
       "{'Response': 'Delhi is Capital of India'}"
      ]
     },
     "execution_count": 17,
     "metadata": {},
     "output_type": "execute_result"
    }
   ],
   "source": [
    "llm.predict(prompt)"
   ]
  },
  {
   "cell_type": "code",
   "execution_count": null,
   "id": "4bef53ab-a774-4bb9-815c-9acadaa7c754",
   "metadata": {},
   "outputs": [],
   "source": []
  },
  {
   "cell_type": "code",
   "execution_count": 24,
   "id": "f4894f6d-1fe1-48a6-b2c0-7ff922b4ec2c",
   "metadata": {},
   "outputs": [],
   "source": [
    "class DemoLLMChain:\n",
    "\n",
    "  def __init__(self, llm, prompt):\n",
    "    self.llm = llm\n",
    "    self.prompt = prompt\n",
    "\n",
    "  def run(self, input_dict):\n",
    "\n",
    "    final_prompt = self.prompt.format(input_dict)\n",
    "    result = self.llm.predict(final_prompt)\n",
    "\n",
    "    return result"
   ]
  },
  {
   "cell_type": "code",
   "execution_count": null,
   "id": "c826ec2c-682f-4678-9816-eca5c487c17c",
   "metadata": {},
   "outputs": [],
   "source": []
  },
  {
   "cell_type": "code",
   "execution_count": 25,
   "id": "3cac21cd-0b38-4525-8ac5-88dce32fb6c0",
   "metadata": {},
   "outputs": [],
   "source": [
    "template = DemoPromptTemplate(\n",
    "    template=\"Write a {length} poem about {topic}\",\n",
    "    input_variables=['length' ,'topic']\n",
    ")"
   ]
  },
  {
   "cell_type": "code",
   "execution_count": null,
   "id": "b2ad0dfb-9a75-4877-b13f-e3b565763324",
   "metadata": {},
   "outputs": [],
   "source": []
  },
  {
   "cell_type": "code",
   "execution_count": 26,
   "id": "6e225822-ca8c-424e-ad5f-600da3b2b202",
   "metadata": {},
   "outputs": [
    {
     "name": "stdout",
     "output_type": "stream",
     "text": [
      "LLM Created\n"
     ]
    }
   ],
   "source": [
    "llm = DemoLLM()"
   ]
  },
  {
   "cell_type": "code",
   "execution_count": null,
   "id": "957ba8ce-ae4a-4f36-8345-4b7d83021957",
   "metadata": {},
   "outputs": [],
   "source": []
  },
  {
   "cell_type": "code",
   "execution_count": 27,
   "id": "d7bded44-9736-4063-ba83-1fa442e2fccc",
   "metadata": {},
   "outputs": [],
   "source": [
    "chain = DemoLLMChain(llm, template)"
   ]
  },
  {
   "cell_type": "code",
   "execution_count": null,
   "id": "d27c2f65-9725-4488-a340-2e8d10a3fb43",
   "metadata": {},
   "outputs": [],
   "source": []
  },
  {
   "cell_type": "code",
   "execution_count": 28,
   "id": "7d9896d8-ffac-4477-afa9-09b90fb095d4",
   "metadata": {},
   "outputs": [
    {
     "data": {
      "text/plain": [
       "{'Response': 'My name is Hemant'}"
      ]
     },
     "execution_count": 28,
     "metadata": {},
     "output_type": "execute_result"
    }
   ],
   "source": [
    "chain.run({'length':'short', 'topic': 'india'})"
   ]
  },
  {
   "cell_type": "code",
   "execution_count": null,
   "id": "f1824194-ddef-48ba-92a9-a4f25e6c2321",
   "metadata": {},
   "outputs": [],
   "source": []
  }
 ],
 "metadata": {
  "kernelspec": {
   "display_name": "Python [conda env:base] *",
   "language": "python",
   "name": "conda-base-py"
  },
  "language_info": {
   "codemirror_mode": {
    "name": "ipython",
    "version": 3
   },
   "file_extension": ".py",
   "mimetype": "text/x-python",
   "name": "python",
   "nbconvert_exporter": "python",
   "pygments_lexer": "ipython3",
   "version": "3.12.7"
  }
 },
 "nbformat": 4,
 "nbformat_minor": 5
}
